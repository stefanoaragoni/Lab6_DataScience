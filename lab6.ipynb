{
 "cells": [
  {
   "cell_type": "markdown",
   "metadata": {},
   "source": [
    "### Laboratorio 6 - Generative Adversarial Network\n",
    "Stefano Aragoni, Carol Arévalo\n",
    "\n",
    "-----------"
   ]
  },
  {
   "cell_type": "markdown",
   "metadata": {},
   "source": [
    "En esta práctica se diseñó una Generative Adversarial Network (GAN) con el propósito de poder generar imágenes artificiales que imiten la distribución de los datos originales Para esto, fue necesario diseñar una red neuronal que fuera capaz de generar imágenes, y otra red neuronal que fuera capaz de diferenciar entre imágenes reales y generadas. \n",
    "\n",
    "A continuación se muestra el código utilizado para la creación de la GAN, así como los resultados obtenidos.\n",
    "\n",
    "------- "
   ]
  },
  {
   "cell_type": "markdown",
   "metadata": {},
   "source": [
    "##### Importar librerías\n",
    "\n",
    "Como primer paso, se importaron las librerías necesarias para la creación de la GAN."
   ]
  },
  {
   "cell_type": "code",
   "execution_count": 3,
   "metadata": {},
   "outputs": [],
   "source": [
    "import numpy as np\n",
    "import pandas as pd\n",
    "import matplotlib.pyplot as plt\n",
    "import tensorflow as tf\n",
    "from keras.datasets import mnist\n",
    "from keras.models import Sequential, Model\n",
    "from keras.layers import Dense, LeakyReLU, BatchNormalization, Reshape, Flatten, Input\n",
    "from keras.optimizers import Adam\n",
    "import os\n",
    "import cv2\n"
   ]
  },
  {
   "cell_type": "markdown",
   "metadata": {},
   "source": [
    "--------\n",
    "### **Preparación de Datos**\n",
    "\n",
    "##### Cargar el dataset de CelebA\n",
    "\n",
    "Posteriormente, se descargó el dataset de CelebA. Este conjunto de datos consta de más de 200,000 imágenes a color, de 128 X 128 X 3 c/u."
   ]
  },
  {
   "cell_type": "code",
   "execution_count": null,
   "metadata": {},
   "outputs": [],
   "source": [
    "# Direcciones de los archivos\n",
    "fotos_dir = 'archive/img_align_celeba/img_align_celeba/'\n",
    "bounding_boxes_file = 'archive/list_bbox_celeba.csv'"
   ]
  },
  {
   "cell_type": "code",
   "execution_count": 14,
   "metadata": {},
   "outputs": [
    {
     "data": {
      "text/html": [
       "<div>\n",
       "<style scoped>\n",
       "    .dataframe tbody tr th:only-of-type {\n",
       "        vertical-align: middle;\n",
       "    }\n",
       "\n",
       "    .dataframe tbody tr th {\n",
       "        vertical-align: top;\n",
       "    }\n",
       "\n",
       "    .dataframe thead th {\n",
       "        text-align: right;\n",
       "    }\n",
       "</style>\n",
       "<table border=\"1\" class=\"dataframe\">\n",
       "  <thead>\n",
       "    <tr style=\"text-align: right;\">\n",
       "      <th></th>\n",
       "      <th>image_id</th>\n",
       "      <th>x_1</th>\n",
       "      <th>y_1</th>\n",
       "      <th>width</th>\n",
       "      <th>height</th>\n",
       "    </tr>\n",
       "  </thead>\n",
       "  <tbody>\n",
       "    <tr>\n",
       "      <th>0</th>\n",
       "      <td>000001.jpg</td>\n",
       "      <td>95</td>\n",
       "      <td>71</td>\n",
       "      <td>226</td>\n",
       "      <td>313</td>\n",
       "    </tr>\n",
       "    <tr>\n",
       "      <th>1</th>\n",
       "      <td>000002.jpg</td>\n",
       "      <td>72</td>\n",
       "      <td>94</td>\n",
       "      <td>221</td>\n",
       "      <td>306</td>\n",
       "    </tr>\n",
       "    <tr>\n",
       "      <th>2</th>\n",
       "      <td>000003.jpg</td>\n",
       "      <td>216</td>\n",
       "      <td>59</td>\n",
       "      <td>91</td>\n",
       "      <td>126</td>\n",
       "    </tr>\n",
       "    <tr>\n",
       "      <th>3</th>\n",
       "      <td>000004.jpg</td>\n",
       "      <td>622</td>\n",
       "      <td>257</td>\n",
       "      <td>564</td>\n",
       "      <td>781</td>\n",
       "    </tr>\n",
       "    <tr>\n",
       "      <th>4</th>\n",
       "      <td>000005.jpg</td>\n",
       "      <td>236</td>\n",
       "      <td>109</td>\n",
       "      <td>120</td>\n",
       "      <td>166</td>\n",
       "    </tr>\n",
       "  </tbody>\n",
       "</table>\n",
       "</div>"
      ],
      "text/plain": [
       "     image_id  x_1  y_1  width  height\n",
       "0  000001.jpg   95   71    226     313\n",
       "1  000002.jpg   72   94    221     306\n",
       "2  000003.jpg  216   59     91     126\n",
       "3  000004.jpg  622  257    564     781\n",
       "4  000005.jpg  236  109    120     166"
      ]
     },
     "execution_count": 14,
     "metadata": {},
     "output_type": "execute_result"
    }
   ],
   "source": [
    "# Cargar las bounding boxes\n",
    "df_bounding_boxes = pd.read_csv(bounding_boxes_file)\n",
    "\n",
    "df_bounding_boxes.head()"
   ]
  },
  {
   "cell_type": "code",
   "execution_count": 21,
   "metadata": {},
   "outputs": [
    {
     "name": "stdout",
     "output_type": "stream",
     "text": [
      "Cantidad de fotos en el directorio:  2\n"
     ]
    }
   ],
   "source": [
    "# imprimir la cantidad de fotos en directorio\n",
    "print('Cantidad de fotos en el directorio: ', len(os.listdir(fotos_dir)))"
   ]
  },
  {
   "cell_type": "code",
   "execution_count": 16,
   "metadata": {},
   "outputs": [],
   "source": [
    "# Cargar las fotos\n",
    "fotos = []\n",
    "for filename in os.listdir(fotos_dir):\n",
    "    if filename.endswith(\".jpg\"):\n",
    "        img = cv2.imread(os.path.join(fotos_dir, filename))\n",
    "        \n",
    "        if img is not None:  # Verifica si la imagen se cargó correctamente\n",
    "            # Resto del procesamiento de la imagen\n",
    "            x1 = df_bounding_boxes[df_bounding_boxes['image_id'] == filename]['x_1']\n",
    "            y1 = df_bounding_boxes[df_bounding_boxes['image_id'] == filename]['y_1']\n",
    "            width = df_bounding_boxes[df_bounding_boxes['image_id'] == filename]['width']\n",
    "            height = df_bounding_boxes[df_bounding_boxes['image_id'] == filename]['height']\n",
    "            img = img[y1:y1+height, x1:x1+width]\n",
    "            \n",
    "            # Redimensionar la imagen\n",
    "            img = cv2.resize(img, (64, 64))\n",
    "            \n",
    "            # Normalizar la imagen\n",
    "            img = img / 255.0\n",
    "            \n",
    "            # Agregar la imagen a la lista\n",
    "            fotos.append(img)\n",
    "        else:\n",
    "            print(f\"No se pudo cargar la imagen: {filename}\")\n",
    "\n",
    "fotos = np.array(fotos)"
   ]
  },
  {
   "cell_type": "markdown",
   "metadata": {},
   "source": [
    "##### Preprocesamiento: Normalización, recorte y redimensionamiento de las imágenes.\n",
    "\n",
    "Con los datos cargados, se prosiguió a normalizar, recortar, y redimensionar las imágenes."
   ]
  },
  {
   "cell_type": "code",
   "execution_count": null,
   "metadata": {},
   "outputs": [],
   "source": []
  },
  {
   "cell_type": "markdown",
   "metadata": {},
   "source": [
    "--------\n",
    "### **Implementación de la GAN**\n",
    "\n",
    "##### Diseño del generador y el discriminador\n",
    "\n",
    "A continuación se demuestra el modelo del <font color=orange>generador</font>."
   ]
  },
  {
   "cell_type": "code",
   "execution_count": null,
   "metadata": {},
   "outputs": [],
   "source": []
  },
  {
   "cell_type": "markdown",
   "metadata": {},
   "source": [
    "A continuación se demuestra el modelo del <font color=orange>discriminador</font>."
   ]
  },
  {
   "cell_type": "code",
   "execution_count": null,
   "metadata": {},
   "outputs": [],
   "source": []
  },
  {
   "cell_type": "markdown",
   "metadata": {},
   "source": [
    "##### Definición de funciones de pérdida y optimizadores\n",
    "\n",
    "Con los modelos listos, se procedió a definir las funciones de pérdida y los optimizadores. Esto con el propósito de poder entrenar la GAN. Más específicamente, se utilizó la función de <font color=orange>Binary Cross Entropy</font> (BCE) como función de pérdida, y el <font color=orange>optimizador Adam</font>. \n",
    "\n",
    "Asimismo, se indicó que el discriminador no se entrenaría durante el entrenamiento de la GAN, ya que el objetivo es entrenar al generador para que engañe al discriminador."
   ]
  },
  {
   "cell_type": "markdown",
   "metadata": {},
   "source": [
    "--------\n",
    "### **Entrenamiento de la GAN**\n",
    "\n",
    "##### Implementación del bucle de entrenamiento"
   ]
  },
  {
   "cell_type": "code",
   "execution_count": null,
   "metadata": {},
   "outputs": [],
   "source": []
  },
  {
   "cell_type": "markdown",
   "metadata": {},
   "source": [
    "##### Visualización de los resultados durante el entrenamiento"
   ]
  },
  {
   "cell_type": "markdown",
   "metadata": {},
   "source": [
    "--------\n",
    "### **Reflexión**\n",
    "\n",
    "Reflexione sobre lo aprendido en la sesión teórica y cómo se aplicó en el laboratorio. Algunos \n",
    "puntos que podrían considerar en su reflexión incluyen:"
   ]
  },
  {
   "cell_type": "markdown",
   "metadata": {},
   "source": [
    "1. ¿Qué conceptos de la teoría encontraron más desafiantes y por qué?\n"
   ]
  },
  {
   "cell_type": "markdown",
   "metadata": {},
   "source": [
    "2. ¿Cómo les ayudó el laboratorio a consolidar o entender mejor estos conceptos?\n"
   ]
  },
  {
   "cell_type": "markdown",
   "metadata": {},
   "source": [
    "3. ¿Qué aplicaciones potenciales ven para las GANs en la industria o en la investigación?"
   ]
  },
  {
   "cell_type": "markdown",
   "metadata": {},
   "source": [
    "4. ¿Qué limitaciones o preocupaciones éticas pueden identificar en el uso de GANs?\n"
   ]
  },
  {
   "cell_type": "markdown",
   "metadata": {},
   "source": [
    "5. ¿Cómo se sienten con respecto a la implementación y entrenamiento de GANs después de la  experiencia práctica?"
   ]
  }
 ],
 "metadata": {
  "kernelspec": {
   "display_name": "Python 3",
   "language": "python",
   "name": "python3"
  },
  "language_info": {
   "codemirror_mode": {
    "name": "ipython",
    "version": 3
   },
   "file_extension": ".py",
   "mimetype": "text/x-python",
   "name": "python",
   "nbconvert_exporter": "python",
   "pygments_lexer": "ipython3",
   "version": "3.9.2"
  },
  "orig_nbformat": 4
 },
 "nbformat": 4,
 "nbformat_minor": 2
}
